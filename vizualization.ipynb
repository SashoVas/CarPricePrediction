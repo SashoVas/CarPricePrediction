{
 "cells": [
  {
   "cell_type": "code",
   "execution_count": null,
   "metadata": {},
   "outputs": [],
   "source": [
    "import pandas as pd\n",
    "import numpy as np\n",
    "import matplotlib.pyplot as plt\n",
    "import ast\n"
   ]
  },
  {
   "cell_type": "code",
   "execution_count": null,
   "metadata": {},
   "outputs": [],
   "source": [
    "TWO_WORD_NAMES={'Aston martin':'AstonMartin','Alfa Romeo':'AlfaRomeo',\n",
    "                'Great Wall':'GreatWall','Ineos Grenadier':'IneosGrenadier',\n",
    "                'Land Rover':'LandRover','Link & Co':'Link&Co','SH auto':'SHauto',\n",
    "                'SIN CARS':'SINCARS','Ssang yong':'Ssangyong'}"
   ]
  },
  {
   "cell_type": "code",
   "execution_count": null,
   "metadata": {},
   "outputs": [],
   "source": [
    "#df=pd.concat([pd.read_csv('scraping_results/out_more.csv',index_col=0),pd.read_csv('scraping_results/out.csv',index_col=0)],ignore_index=True).drop_duplicates(subset=['URL'],keep='first')\n",
    "df=pd.read_csv(\"scraping_results/latest.csv\",index_col=0)\n",
    "df"
   ]
  },
  {
   "cell_type": "code",
   "execution_count": null,
   "metadata": {},
   "outputs": [],
   "source": [
    "#df.to_csv('out_merged.csv')"
   ]
  },
  {
   "cell_type": "code",
   "execution_count": null,
   "metadata": {},
   "outputs": [],
   "source": [
    "def get_brand(x):\n",
    "    res=x.split(' ')\n",
    "    if (res[0]+' '+res[1])in TWO_WORD_NAMES:\n",
    "        return TWO_WORD_NAMES[res[0]+' '+res[1]]\n",
    "    return res[0]\n",
    "def get_model(x):\n",
    "    res=x.split(' ')\n",
    "    if (res[0]+' '+res[1])in TWO_WORD_NAMES:\n",
    "        return \" \".join(res[2:])\n",
    "    return \" \".join(res[1:])\n",
    "\n",
    "df['Brand']=df['CarModel'].map(get_brand).str.strip()\n",
    "df['Model']=df['CarModel'].map(get_model).str.strip()\n",
    "df['Brand'].value_counts()\n"
   ]
  },
  {
   "cell_type": "code",
   "execution_count": null,
   "metadata": {},
   "outputs": [],
   "source": [
    "df=df.join(df['Дата на производствоTech'].str.split(' ',expand=True)).rename(columns={0:'Month',1:'Year'})\n",
    "months_bulgarian = {\n",
    "    \"януари\": 1,\n",
    "    \"февруари\": 2,\n",
    "    \"март\": 3,\n",
    "    \"април\": 4,\n",
    "    \"май\": 5,\n",
    "    \"юни\": 6,\n",
    "    \"юли\": 7,\n",
    "    \"август\": 8,\n",
    "    \"септември\": 9,\n",
    "    \"октомври\": 10,\n",
    "    \"ноември\": 11,\n",
    "    \"декември\": 12\n",
    "}\n",
    "df['Month']=df['Month'].map(months_bulgarian)"
   ]
  },
  {
   "cell_type": "code",
   "execution_count": null,
   "metadata": {},
   "outputs": [],
   "source": [
    "df['CarPrice']=df['CarPrice'].str.replace('( лв.| )','',regex=True).astype('float64')\n",
    "df['МощностTech']=df['МощностTech'].str.replace(' к.с.','').str.strip().astype('float64')\n",
    "df['Пробег [км]Tech']=df['Пробег [км]Tech'].str.replace(' км','').str.strip().astype('float64')\n",
    "df['Пробег с едно зареждане (WLTP) [км]']=df['Пробег с едно зареждане (WLTP) [км]'].str.replace(' км.','').str.strip().astype('float64')\n",
    "df['Капацитет на батерията [kWh]']=df['Капацитет на батерията [kWh]'].str.replace(' kWh.','').str.strip().astype('float64')"
   ]
  },
  {
   "cell_type": "code",
   "execution_count": null,
   "metadata": {},
   "outputs": [],
   "source": [
    "df=df.join(df['Location'].str.split(',',expand=True).rename(columns={0:'Region',1:'City'}))\n",
    "df['Region']=df['Region'].str.replace('обл. ','',).str.strip()\n",
    "df['City']=df['City'].str.replace('гр. ','',).str.strip()"
   ]
  },
  {
   "cell_type": "code",
   "execution_count": null,
   "metadata": {},
   "outputs": [],
   "source": [
    "def flatten_2d(arr):\n",
    "    res=[]\n",
    "    for i in arr:\n",
    "        for j in i:\n",
    "            res.append(j)\n",
    "    return res"
   ]
  },
  {
   "cell_type": "code",
   "execution_count": null,
   "metadata": {},
   "outputs": [],
   "source": [
    "for col in set(flatten_2d(df['Комфорт'].fillna('[]').apply(ast.literal_eval).tolist())):\n",
    "    df[col]=df['Комфорт'].fillna('[]').apply(ast.literal_eval).map(lambda x: col in x)\n",
    "for col in set(flatten_2d(df['Интериор'].fillna('[]').apply(ast.literal_eval).tolist())):\n",
    "    df[col]=df['Интериор'].fillna('[]').apply(ast.literal_eval).map(lambda x: col in x)\n",
    "for col in set(flatten_2d(df['Безопасност'].fillna('[]').apply(ast.literal_eval).tolist())):\n",
    "    df[col]=df['Безопасност'].fillna('[]').apply(ast.literal_eval).map(lambda x: col in x)\n",
    "for col in set(flatten_2d(df['Други'].fillna('[]').apply(ast.literal_eval).tolist())):\n",
    "    df[col]=df['Други'].fillna('[]').apply(ast.literal_eval).map(lambda x: col in x)\n",
    "for col in set(flatten_2d(df['Екстериор'].fillna('[]').apply(ast.literal_eval).tolist())):\n",
    "    df[col]=df['Екстериор'].fillna('[]').apply(ast.literal_eval).map(lambda x: col in x)\n",
    "for col in set(flatten_2d(df['Защита'].fillna('[]').apply(ast.literal_eval).tolist())):\n",
    "    df[col]=df['Защита'].fillna('[]').apply(ast.literal_eval).map(lambda x: col in x)"
   ]
  },
  {
   "cell_type": "code",
   "execution_count": null,
   "metadata": {},
   "outputs": [],
   "source": [
    "df.columns\n",
    "df=df.drop(columns=['ДвигателInfo', 'МощностInfo',\n",
    "       'Скоростна кутияInfo', 'Пробег [км]Info',\n",
    "       'ЕвростандартInfo','CarModel', 'CarDescription',\n",
    "       'Location','Дата на производствоTech','Комфорт','Интериор'\n",
    "       ,'Безопасност','Други','Екстериор','Защита'])\n",
    "df=df.rename(columns={'ДвигателTech':'Двигател','МощностTech':'Мощност',\n",
    "                           'Скоростна кутияTech':'Скоростна кутия',\n",
    "                           'Пробег [км]Tech':'Пробег [км]',\n",
    "                           'ЕвростандартTech':'Евростандарт'})"
   ]
  },
  {
   "cell_type": "code",
   "execution_count": null,
   "metadata": {},
   "outputs": [],
   "source": [
    "df.columns"
   ]
  },
  {
   "cell_type": "code",
   "execution_count": null,
   "metadata": {},
   "outputs": [],
   "source": [
    "df.to_csv('out_cleared.csv')"
   ]
  },
  {
   "cell_type": "code",
   "execution_count": null,
   "metadata": {},
   "outputs": [],
   "source": [
    "df.loc[df['CarPrice']==484900.0,'CarPrice']=48900.0\n"
   ]
  },
  {
   "cell_type": "code",
   "execution_count": null,
   "metadata": {},
   "outputs": [],
   "source": [
    "df.dropna(subset=['CarPrice']).sort_values('CarPrice',ascending=False).loc[:,['Brand','Model','CarPrice','URL','Мощност','Пробег [км]','Цвят','Двигател']].head(20)\n"
   ]
  },
  {
   "cell_type": "code",
   "execution_count": null,
   "metadata": {},
   "outputs": [],
   "source": [
    "brand_to_price=df.groupby('Brand')[['CarPrice','Мощност']].agg(['mean','count','max','min','median'])\n",
    "plt.rcParams[\"figure.figsize\"] = (20,10)\n",
    "brand_to_price['CarPrice'][brand_to_price['CarPrice']['count']>=20].plot.bar(y=['mean','median'])"
   ]
  },
  {
   "cell_type": "code",
   "execution_count": null,
   "metadata": {},
   "outputs": [],
   "source": [
    "brand_to_price['Мощност'][brand_to_price['Мощност']['count']>=20].plot.bar(y=['mean','median'])"
   ]
  },
  {
   "cell_type": "code",
   "execution_count": null,
   "metadata": {},
   "outputs": [],
   "source": [
    "brands_counts=df['Brand'].value_counts()\n",
    "brands_counts['Others']=brands_counts[brands_counts<=12].sum()\n",
    "brands_counts[brands_counts>12].plot.pie()"
   ]
  },
  {
   "cell_type": "code",
   "execution_count": null,
   "metadata": {},
   "outputs": [],
   "source": [
    "df['Двигател'].value_counts().plot.pie()"
   ]
  },
  {
   "cell_type": "code",
   "execution_count": null,
   "metadata": {},
   "outputs": [],
   "source": [
    "df.groupby('Двигател')[['CarPrice','Мощност']].agg(['mean','median']).plot.bar(subplots=True)\n"
   ]
  },
  {
   "cell_type": "code",
   "execution_count": null,
   "metadata": {},
   "outputs": [],
   "source": [
    "color_to_other=df.groupby('Цвят')[['CarPrice','Мощност']].agg(['mean','median'])\n",
    "color_to_other['CarPrice'].plot.bar()\n",
    "color_to_other['Мощност'].plot.bar()"
   ]
  },
  {
   "cell_type": "code",
   "execution_count": null,
   "metadata": {},
   "outputs": [],
   "source": [
    "df.groupby('Скоростна кутия')['CarPrice'].mean().plot.barh()"
   ]
  },
  {
   "cell_type": "code",
   "execution_count": null,
   "metadata": {},
   "outputs": [],
   "source": [
    "df.groupby('Категория')['CarPrice'].mean().plot.bar()"
   ]
  },
  {
   "cell_type": "code",
   "execution_count": null,
   "metadata": {},
   "outputs": [],
   "source": [
    "df.groupby('Year')['CarPrice'].mean().plot.line()\n",
    "df.groupby('Year')['CarPrice'].median().plot.line()"
   ]
  },
  {
   "cell_type": "code",
   "execution_count": null,
   "metadata": {},
   "outputs": [],
   "source": [
    "region_to_car_price=df.groupby('Region')['CarPrice'].agg(['median','mean','count'])\n",
    "region_to_car_price[region_to_car_price['count']>10].plot.bar(y='median')"
   ]
  }
 ],
 "metadata": {
  "kernelspec": {
   "display_name": ".venv",
   "language": "python",
   "name": "python3"
  },
  "language_info": {
   "codemirror_mode": {
    "name": "ipython",
    "version": 3
   },
   "file_extension": ".py",
   "mimetype": "text/x-python",
   "name": "python",
   "nbconvert_exporter": "python",
   "pygments_lexer": "ipython3",
   "version": "3.10.6"
  }
 },
 "nbformat": 4,
 "nbformat_minor": 2
}
